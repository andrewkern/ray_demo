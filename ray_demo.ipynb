{
 "cells": [
  {
   "cell_type": "code",
   "execution_count": 1,
   "id": "b827b9ca-3253-4804-b7a3-9822565263e8",
   "metadata": {},
   "outputs": [
    {
     "name": "stderr",
     "output_type": "stream",
     "text": [
      "/home/adkern/miniconda3/envs/ray/lib/python3.9/site-packages/redis/connection.py:72: UserWarning: redis-py works best with hiredis. Please consider installing\n",
      "  warnings.warn(msg)\n"
     ]
    },
    {
     "name": "stdout",
     "output_type": "stream",
     "text": [
      "Created `%t` as an alias for `%timeit`.\n",
      "Created `%%t` as an alias for `%%timeit`.\n"
     ]
    },
    {
     "data": {
      "text/plain": [
       "{'node_ip_address': '184.171.122.115',\n",
       " 'raylet_ip_address': '184.171.122.115',\n",
       " 'redis_address': '184.171.122.115:6379',\n",
       " 'object_store_address': '/tmp/ray/session_2021-11-17_22-09-35_273562_64443/sockets/plasma_store',\n",
       " 'raylet_socket_name': '/tmp/ray/session_2021-11-17_22-09-35_273562_64443/sockets/raylet',\n",
       " 'webui_url': None,\n",
       " 'session_dir': '/tmp/ray/session_2021-11-17_22-09-35_273562_64443',\n",
       " 'metrics_export_port': 57988,\n",
       " 'node_id': '941d03d4cf4e8c3d58ba5e9920cb1777abaa71cf84c8af248a8706af'}"
      ]
     },
     "execution_count": 1,
     "metadata": {},
     "output_type": "execute_result"
    }
   ],
   "source": [
    "import ray\n",
    "import time\n",
    "import numpy as np\n",
    "%alias_magic t timeit\n",
    "ray.init(num_cpus = 24)\n"
   ]
  },
  {
   "cell_type": "markdown",
   "id": "e18dc1df-20a9-4b3d-b7ff-ac561cb6674a",
   "metadata": {},
   "source": [
    "### numpy baseline"
   ]
  },
  {
   "cell_type": "code",
   "execution_count": 3,
   "id": "b4be2af8-55f3-46c4-b8aa-3e7b4268b218",
   "metadata": {},
   "outputs": [],
   "source": [
    "# random large matrix\n",
    "x = np.random.random((1_000_000,1000))\n"
   ]
  },
  {
   "cell_type": "code",
   "execution_count": 4,
   "id": "523d3076-cfc8-47d9-b703-a2cf6f3caa29",
   "metadata": {},
   "outputs": [
    {
     "name": "stdout",
     "output_type": "stream",
     "text": [
      "8.83 s ± 12.8 ms per loop (mean ± std. dev. of 7 runs, 1 loop each)\n"
     ]
    }
   ],
   "source": [
    "%%t\n",
    "res2 = [ np.sum(x[:, i]) for i in range(x.shape[1])]"
   ]
  },
  {
   "cell_type": "markdown",
   "id": "dc15383f-ca29-4265-951e-08b58773f589",
   "metadata": {},
   "source": [
    "### using ray"
   ]
  },
  {
   "cell_type": "code",
   "execution_count": 5,
   "id": "9ef42119-1f55-4b0f-bcbb-16efc24e046f",
   "metadata": {},
   "outputs": [],
   "source": [
    "# set up so-called remote function to broadcast work\n",
    "@ray.remote\n",
    "def remote_sum(array_id, idx):\n",
    "    return np.sum(array_id[:,idx])\n",
    "\n",
    "# broadcast random matrix to share among workers\n",
    "obj_ref1 = ray.put(x)\n"
   ]
  },
  {
   "cell_type": "code",
   "execution_count": 6,
   "id": "070d88a1-9f91-4731-9e8d-291017daa2ae",
   "metadata": {},
   "outputs": [
    {
     "name": "stdout",
     "output_type": "stream",
     "text": [
      "\u001b[2m\u001b[36m(remote_sum pid=64537)\u001b[0m \n",
      "1.22 s ± 115 ms per loop (mean ± std. dev. of 7 runs, 1 loop each)\n"
     ]
    }
   ],
   "source": [
    "%%t\n",
    "\n",
    "result_ids = [ remote_sum.remote(obj_ref1, i) for i in range(x.shape[1]) ]\n",
    "results = ray.get(result_ids)\n"
   ]
  },
  {
   "cell_type": "code",
   "execution_count": null,
   "id": "47249163-b6c7-4cfe-b779-8f9d9007eb9e",
   "metadata": {},
   "outputs": [],
   "source": []
  }
 ],
 "metadata": {
  "kernelspec": {
   "display_name": "Python 3 (ipykernel)",
   "language": "python",
   "name": "python3"
  },
  "language_info": {
   "codemirror_mode": {
    "name": "ipython",
    "version": 3
   },
   "file_extension": ".py",
   "mimetype": "text/x-python",
   "name": "python",
   "nbconvert_exporter": "python",
   "pygments_lexer": "ipython3",
   "version": "3.9.7"
  }
 },
 "nbformat": 4,
 "nbformat_minor": 5
}
